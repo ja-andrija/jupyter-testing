
{
  "cells": [
    {
      "cell_type": "markdown",
      "source": [
        "Prve tri celije inicijalizuju podatke itd. Tu nista nije preterano zanimljivo :)"
      ],
      "metadata": {
        "nteract": {
          "transient": {
            "deleting": false
          }
        }
      }
    },
    {
      "cell_type": "code",
      "source": [
        "import pandas as pd\r\n",
        "\r\n",
        "Wdf = pd.DataFrame({'W_Kanom':[0.003314, 0.006613, 0.008815], 'W_GOR': [0.000110, 0.000240, 0.000680], 'W_mu':[0.000032, 0.000084, 0.00012],\r\n",
        "                     'W_PI':[0.00832, 0.011927, 0.080346], 'W_OOIP':[0.013546, 0.039071, 0.086332], 'W_Ed':[0.325466, 0.942064, 1.566234]})\r\n",
        "\r\n",
        "Wdf"
      ],
      "outputs": [
        {
          "output_type": "execute_result",
          "execution_count": 20,
          "data": {
            "text/plain": "    W_Kanom    W_GOR      W_mu      W_PI    W_OOIP      W_Ed\n0  0.003314  0.00011  0.000032  0.008320  0.013546  0.325466\n1  0.006613  0.00024  0.000084  0.011927  0.039071  0.942064\n2  0.008815  0.00068  0.000120  0.080346  0.086332  1.566234",
            "text/html": "<div>\n<style scoped>\n    .dataframe tbody tr th:only-of-type {\n        vertical-align: middle;\n    }\n\n    .dataframe tbody tr th {\n        vertical-align: top;\n    }\n\n    .dataframe thead th {\n        text-align: right;\n    }\n</style>\n<table border=\"1\" class=\"dataframe\">\n  <thead>\n    <tr style=\"text-align: right;\">\n      <th></th>\n      <th>W_Kanom</th>\n      <th>W_GOR</th>\n      <th>W_mu</th>\n      <th>W_PI</th>\n      <th>W_OOIP</th>\n      <th>W_Ed</th>\n    </tr>\n  </thead>\n  <tbody>\n    <tr>\n      <th>0</th>\n      <td>0.003314</td>\n      <td>0.00011</td>\n      <td>0.000032</td>\n      <td>0.008320</td>\n      <td>0.013546</td>\n      <td>0.325466</td>\n    </tr>\n    <tr>\n      <th>1</th>\n      <td>0.006613</td>\n      <td>0.00024</td>\n      <td>0.000084</td>\n      <td>0.011927</td>\n      <td>0.039071</td>\n      <td>0.942064</td>\n    </tr>\n    <tr>\n      <th>2</th>\n      <td>0.008815</td>\n      <td>0.00068</td>\n      <td>0.000120</td>\n      <td>0.080346</td>\n      <td>0.086332</td>\n      <td>1.566234</td>\n    </tr>\n  </tbody>\n</table>\n</div>"
          },
          "metadata": {}
        }
      ],
      "execution_count": 20,
      "metadata": {
        "gather": {
          "logged": 1634404088856
        }
      }
    },
    {
      "cell_type": "code",
      "source": [
        "df = pd.DataFrame(columns = ['SKanom', 'SGOR', 'Smu', 'SPI', 'SOOIP', 'SEd'])\r\n",
        "\r\n",
        "df.loc[0] = ([1.000232, 3.665075, 3.667764, 3.999444, 1.262433, 1.494647])\r\n",
        "df.loc[1] = ([1.000232, 3.665075, 3.667764, 3.999444, 1.002596, 2.285886])\r\n",
        "df.loc[2] = ([1.000232, 3.665075, 3.667764, 3.999444, 1.001298, 2.466327])\r\n",
        "df.loc[3] = ([4.590591, 3.669525, 2.332236, 0.877914, 1.000278, 2.225863])\r\n",
        "df.loc[4] = ([4.590591, 3.668134, 2.332236, 0.877914, 1.006860, 1.677451])\r\n",
        "\r\n",
        "df"
      ],
      "outputs": [
        {
          "output_type": "execute_result",
          "execution_count": 22,
          "data": {
            "text/plain": "     SKanom      SGOR       Smu       SPI     SOOIP       SEd\n0  1.000232  3.665075  3.667764  3.999444  1.262433  1.494647\n1  1.000232  3.665075  3.667764  3.999444  1.002596  2.285886\n2  1.000232  3.665075  3.667764  3.999444  1.001298  2.466327\n3  4.590591  3.669525  2.332236  0.877914  1.000278  2.225863\n4  4.590591  3.668134  2.332236  0.877914  1.006860  1.677451",
            "text/html": "<div>\n<style scoped>\n    .dataframe tbody tr th:only-of-type {\n        vertical-align: middle;\n    }\n\n    .dataframe tbody tr th {\n        vertical-align: top;\n    }\n\n    .dataframe thead th {\n        text-align: right;\n    }\n</style>\n<table border=\"1\" class=\"dataframe\">\n  <thead>\n    <tr style=\"text-align: right;\">\n      <th></th>\n      <th>SKanom</th>\n      <th>SGOR</th>\n      <th>Smu</th>\n      <th>SPI</th>\n      <th>SOOIP</th>\n      <th>SEd</th>\n    </tr>\n  </thead>\n  <tbody>\n    <tr>\n      <th>0</th>\n      <td>1.000232</td>\n      <td>3.665075</td>\n      <td>3.667764</td>\n      <td>3.999444</td>\n      <td>1.262433</td>\n      <td>1.494647</td>\n    </tr>\n    <tr>\n      <th>1</th>\n      <td>1.000232</td>\n      <td>3.665075</td>\n      <td>3.667764</td>\n      <td>3.999444</td>\n      <td>1.002596</td>\n      <td>2.285886</td>\n    </tr>\n    <tr>\n      <th>2</th>\n      <td>1.000232</td>\n      <td>3.665075</td>\n      <td>3.667764</td>\n      <td>3.999444</td>\n      <td>1.001298</td>\n      <td>2.466327</td>\n    </tr>\n    <tr>\n      <th>3</th>\n      <td>4.590591</td>\n      <td>3.669525</td>\n      <td>2.332236</td>\n      <td>0.877914</td>\n      <td>1.000278</td>\n      <td>2.225863</td>\n    </tr>\n    <tr>\n      <th>4</th>\n      <td>4.590591</td>\n      <td>3.668134</td>\n      <td>2.332236</td>\n      <td>0.877914</td>\n      <td>1.006860</td>\n      <td>1.677451</td>\n    </tr>\n  </tbody>\n</table>\n</div>"
          },
          "metadata": {}
        }
      ],
      "execution_count": 22,
      "metadata": {
        "jupyter": {
          "source_hidden": false,
          "outputs_hidden": false
        },
        "nteract": {
          "transient": {
            "deleting": false
          }
        },
        "gather": {
          "logged": 1634404110830
        }
      }
    },
    {
      "cell_type": "code",
      "source": [
        "def rci (dataRow, weightsRow):\r\n",
        "    return (\r\n",
        "        dataRow['Smu'] * weightsRow['W_mu']\r\n",
        "        + dataRow['SGOR'] * weightsRow['W_GOR']\r\n",
        "        + dataRow['SKanom'] * weightsRow['W_Kanom']\r\n",
        "        + dataRow['SPI'] * weightsRow['W_PI']\r\n",
        "        + dataRow['SOOIP'] * weightsRow['W_OOIP']\r\n",
        "        + dataRow['SEd'] * weightsRow['W_Ed'])\r\n",
        "\r\n",
        "\r\n",
        "def rf(rci):\r\n",
        "    return 100 - 15 * rci + 1/rci # lazna formula, cisto da imam nesto sto moze da se plotuje\r\n",
        "\r\n",
        "\r\n",
        "print(f\"Primer. RCI: {rci(df.loc[0], Wdf.loc[1])}, RF: {rf(rci(df.loc[0], Wdf.loc[1]))}\")"
      ],
      "outputs": [
        {
          "output_type": "stream",
          "name": "stdout",
          "text": "Primer. RCI: 1.512881264131, RF: 77.96777144336889\n"
        }
      ],
      "execution_count": 70,
      "metadata": {
        "jupyter": {
          "source_hidden": false,
          "outputs_hidden": false
        },
        "nteract": {
          "transient": {
            "deleting": false
          }
        },
        "gather": {
          "logged": 1634405406186
        }
      }
    },
    {
      "cell_type": "markdown",
      "source": [
        "Za pocetak, plotujemo jedan grafik.\r\n",
        "Napravimo novu tabelu tako sto racunamo RCI i RF za sve vrednosti `df` frejma i prvi red `Wdf` frejma."
      ],
      "metadata": {
        "nteract": {
          "transient": {
            "deleting": false
          }
        }
      }
    },
    {
      "cell_type": "code",
      "source": [
        "import matplotlib.pyplot as plt\r\n",
        "\r\n",
        "dfPlot = df.apply(lambda row: rci(row, Wdf.loc[0]), axis = 1)\r\n",
        "\r\n",
        "plt.plot(dfPlot, rf(dfPlot), 'ro')"
      ],
      "outputs": [
        {
          "output_type": "execute_result",
          "execution_count": 85,
          "data": {
            "text/plain": "[<matplotlib.lines.Line2D at 0x7f4f9c393e80>]"
          },
          "metadata": {}
        },
        {
          "output_type": "display_data",
          "data": {
            "text/plain": "<Figure size 432x288 with 1 Axes>",
            "image/png": "[encoded data removed]"
          },
          "metadata": {
            "needs_background": "light"
          }
        }
      ],
      "execution_count": 85,
      "metadata": {
        "jupyter": {
          "source_hidden": false,
          "outputs_hidden": false
        },
        "nteract": {
          "transient": {
            "deleting": false
          }
        },
        "gather": {
          "logged": 1634405994849
        }
      }
    },
    {
      "cell_type": "markdown",
      "source": [
        "Sad u `for` petlji za svaki red `Wdf-a` uradimo ovo isto i dobijamo tri grafika:"
      ],
      "metadata": {
        "nteract": {
          "transient": {
            "deleting": false
          }
        }
      }
    },
    {
      "cell_type": "code",
      "source": [
        "figure, axis = plt.subplots(1, 3)\r\n",
        "\r\n",
        "for i, WdfRow in Wdf.iterrows():\r\n",
        "    dfPlot = df.apply(lambda row: rci(row, WdfRow), axis = 1)\r\n",
        "    axis[i].plot(dfPlot, rf(dfPlot), 'ro')\r\n",
        "\r\n",
        "plt.show()"
      ],
      "outputs": [
        {
          "output_type": "display_data",
          "data": {
            "text/plain": "<Figure size 432x288 with 3 Axes>",
            "image/png": "[encoded data removed]"
          },
          "metadata": {
            "needs_background": "light"
          }
        }
      ],
      "execution_count": 84,
      "metadata": {
        "jupyter": {
          "source_hidden": false,
          "outputs_hidden": false
        },
        "nteract": {
          "transient": {
            "deleting": false
          }
        },
        "gather": {
          "logged": 1634405984446
        }
      }
    }
  ],
  "metadata": {
    "kernelspec": {
      "name": "python3-azureml",
      "language": "python",
      "display_name": "Python 3.6 - AzureML"
    },
    "language_info": {
      "name": "python",
      "version": "3.6.9",
      "mimetype": "text/x-python",
      "codemirror_mode": {
        "name": "ipython",
        "version": 3
      },
      "pygments_lexer": "ipython3",
      "nbconvert_exporter": "python",
      "file_extension": ".py"
    },
    "kernel_info": {
      "name": "python3-azureml"
    },
    "microsoft": {
      "host": {
        "AzureML": {
          "notebookHasBeenCompleted": true
        }
      }
    },
    "nteract": {
      "version": "nteract-front-end@1.0.0"
    }
  },
  "nbformat": 4,
  "nbformat_minor": 2
}
